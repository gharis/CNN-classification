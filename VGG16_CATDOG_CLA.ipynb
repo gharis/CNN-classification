{
  "nbformat": 4,
  "nbformat_minor": 0,
  "metadata": {
    "colab": {
      "name": "VGG16-CATDOG-CLA.ipynb",
      "provenance": [],
      "authorship_tag": "ABX9TyMbjAzdYq2Hwet9FbqCO+Ih",
      "include_colab_link": true
    },
    "kernelspec": {
      "name": "python3",
      "display_name": "Python 3"
    },
    "accelerator": "GPU"
  },
  "cells": [
    {
      "cell_type": "markdown",
      "metadata": {
        "id": "view-in-github",
        "colab_type": "text"
      },
      "source": [
        "<a href=\"https://colab.research.google.com/github/gharis/Machine-Learning/blob/master/VGG16_CATDOG_CLA.ipynb\" target=\"_parent\"><img src=\"https://colab.research.google.com/assets/colab-badge.svg\" alt=\"Open In Colab\"/></a>"
      ]
    },
    {
      "cell_type": "code",
      "metadata": {
        "id": "A0megnEbqsS4",
        "colab_type": "code",
        "colab": {}
      },
      "source": [
        "!pip install  tensorflow-gpu==2.0.0-rc0"
      ],
      "execution_count": 0,
      "outputs": []
    },
    {
      "cell_type": "code",
      "metadata": {
        "id": "CKTGgwsRMYeX",
        "colab_type": "code",
        "colab": {
          "base_uri": "https://localhost:8080/",
          "height": 34
        },
        "outputId": "7833893b-d236-46d4-f44c-c4801b9b5d4b"
      },
      "source": [
        "import tensorflow as tf\n",
        "from tensorflow import keras\n",
        "from tensorflow.keras import Sequential\n",
        "from tensorflow.keras.layers import Flatten, Dense, Conv2D, MaxPool2D, ZeroPadding2D, Dropout, BatchNormalization\n",
        "from tensorflow.keras.optimizers import SGD\n",
        "print (tf.__version__)"
      ],
      "execution_count": 58,
      "outputs": [
        {
          "output_type": "stream",
          "text": [
            "2.0.0-rc0\n"
          ],
          "name": "stdout"
        }
      ]
    },
    {
      "cell_type": "code",
      "metadata": {
        "id": "da-Q_06HPvqb",
        "colab_type": "code",
        "colab": {}
      },
      "source": [
        "import numpy as np"
      ],
      "execution_count": 0,
      "outputs": []
    },
    {
      "cell_type": "code",
      "metadata": {
        "id": "hkXuHc28Px8z",
        "colab_type": "code",
        "colab": {}
      },
      "source": [
        "import matplotlib.pyplot as plt"
      ],
      "execution_count": 0,
      "outputs": []
    },
    {
      "cell_type": "code",
      "metadata": {
        "id": "LJROPEcbMYh8",
        "colab_type": "code",
        "colab": {
          "base_uri": "https://localhost:8080/",
          "height": 34
        },
        "outputId": "6cc36e49-f57f-46df-87b5-70cb9aef90b8"
      },
      "source": [
        " !git clone  https://github.com/laxmimerit/dog-cat-full-dataset.git"
      ],
      "execution_count": 61,
      "outputs": [
        {
          "output_type": "stream",
          "text": [
            "fatal: destination path 'dog-cat-full-dataset' already exists and is not an empty directory.\n"
          ],
          "name": "stdout"
        }
      ]
    },
    {
      "cell_type": "code",
      "metadata": {
        "id": "DC73gO2XPu5t",
        "colab_type": "code",
        "colab": {}
      },
      "source": [
        "test_data_dir = '/content/dog-cat-full-dataset/data/test'\n",
        "train_data_dir = '/content/dog-cat-full-dataset/data/train'"
      ],
      "execution_count": 0,
      "outputs": []
    },
    {
      "cell_type": "code",
      "metadata": {
        "id": "1kgcefI9Pu8y",
        "colab_type": "code",
        "colab": {}
      },
      "source": [
        "img_width = 32\n",
        "img_height =32\n",
        "batch_size = 20"
      ],
      "execution_count": 0,
      "outputs": []
    },
    {
      "cell_type": "code",
      "metadata": {
        "id": "IIbwHqBXPu_w",
        "colab_type": "code",
        "colab": {}
      },
      "source": [
        "from tensorflow.keras.preprocessing.image import ImageDataGenerator\n",
        "datagen = ImageDataGenerator(rescale=1./255)"
      ],
      "execution_count": 0,
      "outputs": []
    },
    {
      "cell_type": "code",
      "metadata": {
        "id": "NGwCm0hsMYmE",
        "colab_type": "code",
        "colab": {
          "base_uri": "https://localhost:8080/",
          "height": 34
        },
        "outputId": "1c7d6a02-6573-453c-f3af-b2a3f3fa0eb6"
      },
      "source": [
        "train_generator = datagen.flow_from_directory(directory = train_data_dir,\n",
        "                                              target_size = (img_width, img_height),\n",
        "                                              classes = ['dogs ', 'cats'],\n",
        "                                              class_mode = 'binary',\n",
        "                                              batch_size = batch_size\n",
        "                                              )"
      ],
      "execution_count": 78,
      "outputs": [
        {
          "output_type": "stream",
          "text": [
            "Found 10000 images belonging to 2 classes.\n"
          ],
          "name": "stdout"
        }
      ]
    },
    {
      "cell_type": "code",
      "metadata": {
        "id": "MqU2dndlSH12",
        "colab_type": "code",
        "colab": {
          "base_uri": "https://localhost:8080/",
          "height": 34
        },
        "outputId": "c74dfa97-51f7-4a40-80c8-c33e41fa70c0"
      },
      "source": [
        "train_generator.classes"
      ],
      "execution_count": 79,
      "outputs": [
        {
          "output_type": "execute_result",
          "data": {
            "text/plain": [
              "array([1, 1, 1, ..., 1, 1, 1], dtype=int32)"
            ]
          },
          "metadata": {
            "tags": []
          },
          "execution_count": 79
        }
      ]
    },
    {
      "cell_type": "code",
      "metadata": {
        "id": "6gxl0tLESH4g",
        "colab_type": "code",
        "colab": {
          "base_uri": "https://localhost:8080/",
          "height": 34
        },
        "outputId": "c9568e99-0651-4ac5-e881-f0e5c323d4e6"
      },
      "source": [
        "validation_generator = datagen.flow_from_directory(directory = test_data_dir,\n",
        "                                              target_size = (32, 32),\n",
        "                                              classes = ['dogs ', 'cats'],\n",
        "                                              class_mode = 'binary',\n",
        "                                              batch_size = batch_size\n",
        "                                              )"
      ],
      "execution_count": 80,
      "outputs": [
        {
          "output_type": "stream",
          "text": [
            "Found 2500 images belonging to 2 classes.\n"
          ],
          "name": "stdout"
        }
      ]
    },
    {
      "cell_type": "code",
      "metadata": {
        "id": "aXziOm7gSH79",
        "colab_type": "code",
        "colab": {
          "base_uri": "https://localhost:8080/",
          "height": 34
        },
        "outputId": "05261560-9b2f-4cf9-f493-6708b2e46517"
      },
      "source": [
        "len(train_generator)*batch_size"
      ],
      "execution_count": 89,
      "outputs": [
        {
          "output_type": "execute_result",
          "data": {
            "text/plain": [
              "10000"
            ]
          },
          "metadata": {
            "tags": []
          },
          "execution_count": 89
        }
      ]
    },
    {
      "cell_type": "code",
      "metadata": {
        "id": "mxbWPrJ5U5wt",
        "colab_type": "code",
        "colab": {}
      },
      "source": [
        "model = Sequential()\n",
        "model.add(Conv2D(filters = 64, kernel_size = (3,3), activation = 'relu', padding = 'same', kernel_initializer = 'he_uniform', input_shape = (img_width, img_height, 3)))\n",
        "model.add(MaxPool2D(2,2))\n",
        "\n",
        "model.add(Flatten())\n",
        "model.add(Dense(128, activation = 'relu', kernel_initializer = 'he_uniform'))\n",
        "model.add(Dense(1, activation ='sigmoid'))"
      ],
      "execution_count": 0,
      "outputs": []
    },
    {
      "cell_type": "code",
      "metadata": {
        "id": "zD1nRe_qU52A",
        "colab_type": "code",
        "colab": {}
      },
      "source": [
        "opt = SGD(learning_rate = 0.01, momentum = 0.9 )\n",
        "model.compile(optimizer= opt, loss ='binary_crossentropy', metrics = ['accuracy'])"
      ],
      "execution_count": 0,
      "outputs": []
    },
    {
      "cell_type": "code",
      "metadata": {
        "id": "j3FRFw1zU6A7",
        "colab_type": "code",
        "colab": {}
      },
      "source": [
        "history = model.fit_generator(generator = train_generator, \n",
        "                              steps_per_epoch = len(train_generator), \n",
        "                              epochs = 5, \n",
        "                              validation_data = validation_generator, \n",
        "                              validation_steps = len(validation_generator),\n",
        "                              verbose =1\n",
        "                              )"
      ],
      "execution_count": 0,
      "outputs": []
    },
    {
      "cell_type": "code",
      "metadata": {
        "id": "msP5om8tU6EO",
        "colab_type": "code",
        "colab": {}
      },
      "source": [
        "history.history"
      ],
      "execution_count": 0,
      "outputs": []
    },
    {
      "cell_type": "code",
      "metadata": {
        "id": "FST75rKqU59_",
        "colab_type": "code",
        "colab": {}
      },
      "source": [
        "def plot_learningCurve(history):\n",
        "  epoch_range = range(1,6)\n",
        "  #plot Accuracy\n",
        "  plt.plot(epoch_range, history.history['accuracy'])\n",
        "  plt.plot(epoch_range, history.history['val_accuracy'])\n",
        "\n",
        "  plt.title('Model accuracy')\n",
        "  plt.ylabel('Accuracy')\n",
        "  plt.xlabel('Epoch')\n",
        "  plt.legend(['Train','Val'], loc='upper left')\n",
        "  plt.show()\n",
        "\n",
        "  #plot loss\n",
        "  plt.plot(history.history['loss'])\n",
        "  plt.plot(history.history['val_loss'])\n",
        "\n",
        "  plt.title('Model loss')\n",
        "  plt.ylabel('Accuracy')\n",
        "  plt.xlabel('Epoch')\n",
        "  plt.legend(['Train','Val'], loc='upper left')\n",
        "  plt.show()"
      ],
      "execution_count": 0,
      "outputs": []
    },
    {
      "cell_type": "code",
      "metadata": {
        "id": "F3JUBTUbU57i",
        "colab_type": "code",
        "colab": {}
      },
      "source": [
        "plot_learningCurve(history)"
      ],
      "execution_count": 0,
      "outputs": []
    },
    {
      "cell_type": "code",
      "metadata": {
        "id": "nMzLCjrjU55v",
        "colab_type": "code",
        "colab": {}
      },
      "source": [
        "#VGG"
      ],
      "execution_count": 0,
      "outputs": []
    },
    {
      "cell_type": "code",
      "metadata": {
        "colab_type": "code",
        "id": "RCMiO0-Bdozj",
        "colab": {}
      },
      "source": [
        "model = Sequential()\n",
        "model.add(Conv2D(filters = 64, kernel_size = (3,3), activation = 'relu', padding = 'same', kernel_initializer = 'he_uniform', input_shape = (img_width, img_height, 3)))\n",
        "model.add(MaxPool2D(2,2))\n",
        "\n",
        "model.add(Conv2D(filters = 128, kernel_size = (3,3), activation = 'relu', padding = 'same', kernel_initializer = 'he_uniform'))\n",
        "model.add(MaxPool2D(2,2))\n",
        "\n",
        "model.add(Conv2D(filters = 256, kernel_size = (3,3), activation = 'relu', padding = 'same', kernel_initializer = 'he_uniform'))\n",
        "model.add(MaxPool2D(2,2))\n",
        "\n",
        "model.add(Flatten())\n",
        "model.add(Dense(128, activation = 'relu', kernel_initializer = 'he_uniform'))\n",
        "\n",
        "model.add(Dense(1, activation ='sigmoid'))"
      ],
      "execution_count": 0,
      "outputs": []
    },
    {
      "cell_type": "code",
      "metadata": {
        "colab_type": "code",
        "id": "Rm4p8gcjdozo",
        "colab": {}
      },
      "source": [
        "opt = SGD(learning_rate = 0.01, momentum = 0.9 )\n",
        "model.compile(optimizer= opt, loss ='binary_crossentropy', metrics = ['accuracy'])"
      ],
      "execution_count": 0,
      "outputs": []
    },
    {
      "cell_type": "code",
      "metadata": {
        "colab_type": "code",
        "id": "N_9FWkExdozq",
        "colab": {}
      },
      "source": [
        "history = model.fit_generator(generator = train_generator, \n",
        "                              steps_per_epoch = len(train_generator), \n",
        "                              epochs = 5, \n",
        "                              validation_data = validation_generator, \n",
        "                              validation_steps = len(validation_generator),\n",
        "                              verbose =1\n",
        "                              )"
      ],
      "execution_count": 0,
      "outputs": []
    },
    {
      "cell_type": "code",
      "metadata": {
        "id": "U3J6fyJNSH_V",
        "colab_type": "code",
        "colab": {}
      },
      "source": [
        "##with  BatchNormalization and dropout"
      ],
      "execution_count": 0,
      "outputs": []
    },
    {
      "cell_type": "code",
      "metadata": {
        "colab_type": "code",
        "id": "Jzo6XZJShL2m",
        "colab": {}
      },
      "source": [
        "model = Sequential()\n",
        "model.add(Conv2D(filters = 64, kernel_size = (3,3), activation = 'relu', padding = 'same', kernel_initializer = 'he_uniform', input_shape = (img_width, img_height, 3)))\n",
        "model.add(BatchNormalization())\n",
        "model.add(MaxPool2D(2,2))\n",
        "model.add(Dropout(0.2))\n",
        "\n",
        "model.add(Conv2D(filters = 128, kernel_size = (3,3), activation = 'relu', padding = 'same', kernel_initializer = 'he_uniform'))\n",
        "model.add(BatchNormalization())\n",
        "model.add(MaxPool2D(2,2))\n",
        "model.add(Dropout(0.3))\n",
        "\n",
        "model.add(Conv2D(filters = 256, kernel_size = (3,3), activation = 'relu', padding = 'same', kernel_initializer = 'he_uniform'))\n",
        "model.add(BatchNormalization())\n",
        "model.add(MaxPool2D(2,2))\n",
        "model.add(Dropout(0.5))\n",
        "\n",
        "model.add(Flatten())\n",
        "model.add(Dense(128, activation = 'relu', kernel_initializer = 'he_uniform'))\n",
        "model.add(BatchNormalization())\n",
        "model.add(Dropout(0.5))\n",
        "\n",
        "model.add(Dense(1, activation ='sigmoid'))"
      ],
      "execution_count": 0,
      "outputs": []
    },
    {
      "cell_type": "code",
      "metadata": {
        "colab_type": "code",
        "id": "NbydVWJnhL2t",
        "colab": {}
      },
      "source": [
        "opt = SGD(learning_rate = 0.01, momentum = 0.9 )\n",
        "model.compile(optimizer= opt, loss ='binary_crossentropy', metrics = ['accuracy'])"
      ],
      "execution_count": 0,
      "outputs": []
    },
    {
      "cell_type": "code",
      "metadata": {
        "colab_type": "code",
        "id": "iv2FJM_7hL2w",
        "colab": {}
      },
      "source": [
        "history = model.fit_generator(generator = train_generator, \n",
        "                              steps_per_epoch = len(train_generator), \n",
        "                              epochs = 10, \n",
        "                              validation_data = validation_generator, \n",
        "                              validation_steps = len(validation_generator),\n",
        "                              verbose =1\n",
        "                              )"
      ],
      "execution_count": 0,
      "outputs": []
    },
    {
      "cell_type": "code",
      "metadata": {
        "id": "YeS43R7ViAuF",
        "colab_type": "code",
        "colab": {}
      },
      "source": [
        "## after  BatchNormalization and dropout"
      ],
      "execution_count": 0,
      "outputs": []
    },
    {
      "cell_type": "code",
      "metadata": {
        "colab_type": "code",
        "id": "wtRdobbsiBWA",
        "colab": {}
      },
      "source": [
        "def plot_learningCurve(history, epoch):\n",
        "  epoch_range = range(1,epoch+1)\n",
        "  #plot Accuracy\n",
        "  plt.plot(epoch_range, history.history['accuracy'])\n",
        "  plt.plot(epoch_range, history.history['val_accuracy'])\n",
        "\n",
        "  plt.title('Model accuracy')\n",
        "  plt.ylabel('Accuracy')\n",
        "  plt.xlabel('Epoch')\n",
        "  plt.legend(['Train','Val'], loc='upper left')\n",
        "  plt.show()\n",
        "\n",
        "  #plot loss\n",
        "  plt.plot(history.history['loss'])\n",
        "  plt.plot(history.history['val_loss'])\n",
        "\n",
        "  plt.title('Model loss')\n",
        "  plt.ylabel('Accuracy')\n",
        "  plt.xlabel('Epoch')\n",
        "  plt.legend(['Train','Val'], loc='upper left')\n",
        "  plt.show()"
      ],
      "execution_count": 0,
      "outputs": []
    },
    {
      "cell_type": "code",
      "metadata": {
        "colab_type": "code",
        "id": "xs9U-u2HiBWE",
        "colab": {}
      },
      "source": [
        "plot_learningCurve(history, 10)"
      ],
      "execution_count": 0,
      "outputs": []
    },
    {
      "cell_type": "code",
      "metadata": {
        "id": "0Naf6TPuiA5K",
        "colab_type": "code",
        "colab": {}
      },
      "source": [
        ""
      ],
      "execution_count": 0,
      "outputs": []
    },
    {
      "cell_type": "code",
      "metadata": {
        "id": "1TpfZvTAiA79",
        "colab_type": "code",
        "colab": {}
      },
      "source": [
        ""
      ],
      "execution_count": 0,
      "outputs": []
    }
  ]
}