{
  "nbformat": 4,
  "nbformat_minor": 0,
  "metadata": {
    "colab": {
      "name": "Breast-Cancer-CNN.ipynb",
      "provenance": [],
      "authorship_tag": "ABX9TyMDI0y83DQs5Iio7ZyGJLKH",
      "include_colab_link": true
    },
    "kernelspec": {
      "name": "python3",
      "display_name": "Python 3"
    },
    "accelerator": "TPU"
  },
  "cells": [
    {
      "cell_type": "markdown",
      "metadata": {
        "id": "view-in-github",
        "colab_type": "text"
      },
      "source": [
        "<a href=\"https://colab.research.google.com/github/gharis/Machine-Learning/blob/master/Breast_Cancer_CNN.ipynb\" target=\"_parent\"><img src=\"https://colab.research.google.com/assets/colab-badge.svg\" alt=\"Open In Colab\"/></a>"
      ]
    },
    {
      "cell_type": "code",
      "metadata": {
        "id": "2HEiduoNv5St",
        "colab_type": "code",
        "colab": {
          "base_uri": "https://localhost:8080/",
          "height": 510
        },
        "outputId": "ecff9965-1ce7-478b-ad93-d098b86c2465"
      },
      "source": [
        "!pip install  tensorflow-gpu==2.0.0-rc0"
      ],
      "execution_count": 1,
      "outputs": [
        {
          "output_type": "stream",
          "text": [
            "Collecting tensorflow-gpu==2.0.0-rc0\n",
            "\u001b[?25l  Downloading https://files.pythonhosted.org/packages/6a/12/8c64cc62149cc21c70c55018502831bbf4d42bd62bed196df7de6830d21b/tensorflow_gpu-2.0.0rc0-cp36-cp36m-manylinux2010_x86_64.whl (380.5MB)\n",
            "\u001b[K     |████████████████████████████████| 380.5MB 42kB/s \n",
            "\u001b[?25hRequirement already satisfied: grpcio>=1.8.6 in /usr/local/lib/python3.6/dist-packages (from tensorflow-gpu==2.0.0-rc0) (1.28.1)\n",
            "Requirement already satisfied: protobuf>=3.6.1 in /usr/local/lib/python3.6/dist-packages (from tensorflow-gpu==2.0.0-rc0) (3.10.0)\n",
            "Requirement already satisfied: wheel>=0.26 in /usr/local/lib/python3.6/dist-packages (from tensorflow-gpu==2.0.0-rc0) (0.34.2)\n",
            "Requirement already satisfied: keras-applications>=1.0.8 in /usr/local/lib/python3.6/dist-packages (from tensorflow-gpu==2.0.0-rc0) (1.0.8)\n",
            "Requirement already satisfied: opt-einsum>=2.3.2 in /usr/local/lib/python3.6/dist-packages (from tensorflow-gpu==2.0.0-rc0) (3.2.1)\n",
            "Requirement already satisfied: gast>=0.2.0 in /usr/local/lib/python3.6/dist-packages (from tensorflow-gpu==2.0.0-rc0) (0.3.3)\n",
            "Requirement already satisfied: termcolor>=1.1.0 in /usr/local/lib/python3.6/dist-packages (from tensorflow-gpu==2.0.0-rc0) (1.1.0)\n",
            "Collecting tb-nightly<1.15.0a20190807,>=1.15.0a20190806\n",
            "\u001b[?25l  Downloading https://files.pythonhosted.org/packages/bc/88/24b5fb7280e74c7cf65bde47c171547fd02afb3840cff41bcbe9270650f5/tb_nightly-1.15.0a20190806-py3-none-any.whl (4.3MB)\n",
            "\u001b[K     |████████████████████████████████| 4.3MB 43.6MB/s \n",
            "\u001b[?25hRequirement already satisfied: wrapt>=1.11.1 in /usr/local/lib/python3.6/dist-packages (from tensorflow-gpu==2.0.0-rc0) (1.12.1)\n",
            "Requirement already satisfied: google-pasta>=0.1.6 in /usr/local/lib/python3.6/dist-packages (from tensorflow-gpu==2.0.0-rc0) (0.2.0)\n",
            "Collecting tf-estimator-nightly<1.14.0.dev2019080602,>=1.14.0.dev2019080601\n",
            "\u001b[?25l  Downloading https://files.pythonhosted.org/packages/21/28/f2a27a62943d5f041e4a6fd404b2d21cb7c59b2242a4e73b03d9ba166552/tf_estimator_nightly-1.14.0.dev2019080601-py2.py3-none-any.whl (501kB)\n",
            "\u001b[K     |████████████████████████████████| 501kB 47.3MB/s \n",
            "\u001b[?25hRequirement already satisfied: six>=1.10.0 in /usr/local/lib/python3.6/dist-packages (from tensorflow-gpu==2.0.0-rc0) (1.12.0)\n",
            "Requirement already satisfied: absl-py>=0.7.0 in /usr/local/lib/python3.6/dist-packages (from tensorflow-gpu==2.0.0-rc0) (0.9.0)\n",
            "Requirement already satisfied: keras-preprocessing>=1.0.5 in /usr/local/lib/python3.6/dist-packages (from tensorflow-gpu==2.0.0-rc0) (1.1.0)\n",
            "Requirement already satisfied: astor>=0.6.0 in /usr/local/lib/python3.6/dist-packages (from tensorflow-gpu==2.0.0-rc0) (0.8.1)\n",
            "Requirement already satisfied: numpy<2.0,>=1.16.0 in /usr/local/lib/python3.6/dist-packages (from tensorflow-gpu==2.0.0-rc0) (1.18.4)\n",
            "Requirement already satisfied: setuptools in /usr/local/lib/python3.6/dist-packages (from protobuf>=3.6.1->tensorflow-gpu==2.0.0-rc0) (46.3.0)\n",
            "Requirement already satisfied: h5py in /usr/local/lib/python3.6/dist-packages (from keras-applications>=1.0.8->tensorflow-gpu==2.0.0-rc0) (2.10.0)\n",
            "Requirement already satisfied: markdown>=2.6.8 in /usr/local/lib/python3.6/dist-packages (from tb-nightly<1.15.0a20190807,>=1.15.0a20190806->tensorflow-gpu==2.0.0-rc0) (3.2.1)\n",
            "Requirement already satisfied: werkzeug>=0.11.15 in /usr/local/lib/python3.6/dist-packages (from tb-nightly<1.15.0a20190807,>=1.15.0a20190806->tensorflow-gpu==2.0.0-rc0) (1.0.1)\n",
            "Installing collected packages: tb-nightly, tf-estimator-nightly, tensorflow-gpu\n",
            "Successfully installed tb-nightly-1.15.0a20190806 tensorflow-gpu-2.0.0rc0 tf-estimator-nightly-1.14.0.dev2019080601\n"
          ],
          "name": "stdout"
        }
      ]
    },
    {
      "cell_type": "code",
      "metadata": {
        "id": "N9B2Vua7wHnq",
        "colab_type": "code",
        "colab": {
          "base_uri": "https://localhost:8080/",
          "height": 34
        },
        "outputId": "138915cb-75b6-4ebe-e445-9631712f2a4b"
      },
      "source": [
        "import tensorflow as tf\n",
        "from tensorflow import keras\n",
        "from tensorflow.keras import Sequential\n",
        "from tensorflow.keras.layers import Flatten, Dense, Conv1D, MaxPool1D, Dropout, BatchNormalization\n",
        "from tensorflow.keras.optimizers import Adam\n",
        "print (tf.__version__)"
      ],
      "execution_count": 2,
      "outputs": [
        {
          "output_type": "stream",
          "text": [
            "2.0.0-rc0\n"
          ],
          "name": "stdout"
        }
      ]
    },
    {
      "cell_type": "code",
      "metadata": {
        "id": "-giMmH2uwHqf",
        "colab_type": "code",
        "colab": {}
      },
      "source": [
        "import pandas as pd\n",
        "import numpy as np\n",
        "import seaborn as sns\n",
        "import matplotlib.pyplot as plt"
      ],
      "execution_count": 0,
      "outputs": []
    },
    {
      "cell_type": "code",
      "metadata": {
        "id": "YFPDgNPrwHtc",
        "colab_type": "code",
        "colab": {}
      },
      "source": [
        "from sklearn import datasets, metrics\n",
        "from sklearn.model_selection import train_test_split \n",
        "from sklearn.preprocessing import StandardScaler"
      ],
      "execution_count": 0,
      "outputs": []
    },
    {
      "cell_type": "code",
      "metadata": {
        "id": "-VZKH7zKwHwd",
        "colab_type": "code",
        "colab": {}
      },
      "source": [
        "cancer = datasets.load_breast_cancer()"
      ],
      "execution_count": 0,
      "outputs": []
    },
    {
      "cell_type": "code",
      "metadata": {
        "id": "Ye9aUghuwHzJ",
        "colab_type": "code",
        "colab": {
          "base_uri": "https://localhost:8080/",
          "height": 1000
        },
        "outputId": "a347840a-175d-4e6d-a3c8-8840c2439a32"
      },
      "source": [
        "print(cancer.DESCR)"
      ],
      "execution_count": 8,
      "outputs": [
        {
          "output_type": "stream",
          "text": [
            ".. _breast_cancer_dataset:\n",
            "\n",
            "Breast cancer wisconsin (diagnostic) dataset\n",
            "--------------------------------------------\n",
            "\n",
            "**Data Set Characteristics:**\n",
            "\n",
            "    :Number of Instances: 569\n",
            "\n",
            "    :Number of Attributes: 30 numeric, predictive attributes and the class\n",
            "\n",
            "    :Attribute Information:\n",
            "        - radius (mean of distances from center to points on the perimeter)\n",
            "        - texture (standard deviation of gray-scale values)\n",
            "        - perimeter\n",
            "        - area\n",
            "        - smoothness (local variation in radius lengths)\n",
            "        - compactness (perimeter^2 / area - 1.0)\n",
            "        - concavity (severity of concave portions of the contour)\n",
            "        - concave points (number of concave portions of the contour)\n",
            "        - symmetry \n",
            "        - fractal dimension (\"coastline approximation\" - 1)\n",
            "\n",
            "        The mean, standard error, and \"worst\" or largest (mean of the three\n",
            "        largest values) of these features were computed for each image,\n",
            "        resulting in 30 features.  For instance, field 3 is Mean Radius, field\n",
            "        13 is Radius SE, field 23 is Worst Radius.\n",
            "\n",
            "        - class:\n",
            "                - WDBC-Malignant\n",
            "                - WDBC-Benign\n",
            "\n",
            "    :Summary Statistics:\n",
            "\n",
            "    ===================================== ====== ======\n",
            "                                           Min    Max\n",
            "    ===================================== ====== ======\n",
            "    radius (mean):                        6.981  28.11\n",
            "    texture (mean):                       9.71   39.28\n",
            "    perimeter (mean):                     43.79  188.5\n",
            "    area (mean):                          143.5  2501.0\n",
            "    smoothness (mean):                    0.053  0.163\n",
            "    compactness (mean):                   0.019  0.345\n",
            "    concavity (mean):                     0.0    0.427\n",
            "    concave points (mean):                0.0    0.201\n",
            "    symmetry (mean):                      0.106  0.304\n",
            "    fractal dimension (mean):             0.05   0.097\n",
            "    radius (standard error):              0.112  2.873\n",
            "    texture (standard error):             0.36   4.885\n",
            "    perimeter (standard error):           0.757  21.98\n",
            "    area (standard error):                6.802  542.2\n",
            "    smoothness (standard error):          0.002  0.031\n",
            "    compactness (standard error):         0.002  0.135\n",
            "    concavity (standard error):           0.0    0.396\n",
            "    concave points (standard error):      0.0    0.053\n",
            "    symmetry (standard error):            0.008  0.079\n",
            "    fractal dimension (standard error):   0.001  0.03\n",
            "    radius (worst):                       7.93   36.04\n",
            "    texture (worst):                      12.02  49.54\n",
            "    perimeter (worst):                    50.41  251.2\n",
            "    area (worst):                         185.2  4254.0\n",
            "    smoothness (worst):                   0.071  0.223\n",
            "    compactness (worst):                  0.027  1.058\n",
            "    concavity (worst):                    0.0    1.252\n",
            "    concave points (worst):               0.0    0.291\n",
            "    symmetry (worst):                     0.156  0.664\n",
            "    fractal dimension (worst):            0.055  0.208\n",
            "    ===================================== ====== ======\n",
            "\n",
            "    :Missing Attribute Values: None\n",
            "\n",
            "    :Class Distribution: 212 - Malignant, 357 - Benign\n",
            "\n",
            "    :Creator:  Dr. William H. Wolberg, W. Nick Street, Olvi L. Mangasarian\n",
            "\n",
            "    :Donor: Nick Street\n",
            "\n",
            "    :Date: November, 1995\n",
            "\n",
            "This is a copy of UCI ML Breast Cancer Wisconsin (Diagnostic) datasets.\n",
            "https://goo.gl/U2Uwz2\n",
            "\n",
            "Features are computed from a digitized image of a fine needle\n",
            "aspirate (FNA) of a breast mass.  They describe\n",
            "characteristics of the cell nuclei present in the image.\n",
            "\n",
            "Separating plane described above was obtained using\n",
            "Multisurface Method-Tree (MSM-T) [K. P. Bennett, \"Decision Tree\n",
            "Construction Via Linear Programming.\" Proceedings of the 4th\n",
            "Midwest Artificial Intelligence and Cognitive Science Society,\n",
            "pp. 97-101, 1992], a classification method which uses linear\n",
            "programming to construct a decision tree.  Relevant features\n",
            "were selected using an exhaustive search in the space of 1-4\n",
            "features and 1-3 separating planes.\n",
            "\n",
            "The actual linear program used to obtain the separating plane\n",
            "in the 3-dimensional space is that described in:\n",
            "[K. P. Bennett and O. L. Mangasarian: \"Robust Linear\n",
            "Programming Discrimination of Two Linearly Inseparable Sets\",\n",
            "Optimization Methods and Software 1, 1992, 23-34].\n",
            "\n",
            "This database is also available through the UW CS ftp server:\n",
            "\n",
            "ftp ftp.cs.wisc.edu\n",
            "cd math-prog/cpo-dataset/machine-learn/WDBC/\n",
            "\n",
            ".. topic:: References\n",
            "\n",
            "   - W.N. Street, W.H. Wolberg and O.L. Mangasarian. Nuclear feature extraction \n",
            "     for breast tumor diagnosis. IS&T/SPIE 1993 International Symposium on \n",
            "     Electronic Imaging: Science and Technology, volume 1905, pages 861-870,\n",
            "     San Jose, CA, 1993.\n",
            "   - O.L. Mangasarian, W.N. Street and W.H. Wolberg. Breast cancer diagnosis and \n",
            "     prognosis via linear programming. Operations Research, 43(4), pages 570-577, \n",
            "     July-August 1995.\n",
            "   - W.H. Wolberg, W.N. Street, and O.L. Mangasarian. Machine learning techniques\n",
            "     to diagnose breast cancer from fine-needle aspirates. Cancer Letters 77 (1994) \n",
            "     163-171.\n"
          ],
          "name": "stdout"
        }
      ]
    },
    {
      "cell_type": "code",
      "metadata": {
        "id": "xS--mrvxwH2E",
        "colab_type": "code",
        "colab": {}
      },
      "source": [
        "x = pd.DataFrame(data = cancer.data, columns=cancer.feature_names)"
      ],
      "execution_count": 0,
      "outputs": []
    },
    {
      "cell_type": "code",
      "metadata": {
        "id": "rDr1Ph3_wH8j",
        "colab_type": "code",
        "colab": {
          "base_uri": "https://localhost:8080/",
          "height": 258
        },
        "outputId": "45609574-4570-4bf6-c935-9c79af1abf33"
      },
      "source": [
        "x.head()"
      ],
      "execution_count": 11,
      "outputs": [
        {
          "output_type": "execute_result",
          "data": {
            "text/html": [
              "<div>\n",
              "<style scoped>\n",
              "    .dataframe tbody tr th:only-of-type {\n",
              "        vertical-align: middle;\n",
              "    }\n",
              "\n",
              "    .dataframe tbody tr th {\n",
              "        vertical-align: top;\n",
              "    }\n",
              "\n",
              "    .dataframe thead th {\n",
              "        text-align: right;\n",
              "    }\n",
              "</style>\n",
              "<table border=\"1\" class=\"dataframe\">\n",
              "  <thead>\n",
              "    <tr style=\"text-align: right;\">\n",
              "      <th></th>\n",
              "      <th>mean radius</th>\n",
              "      <th>mean texture</th>\n",
              "      <th>mean perimeter</th>\n",
              "      <th>mean area</th>\n",
              "      <th>mean smoothness</th>\n",
              "      <th>mean compactness</th>\n",
              "      <th>mean concavity</th>\n",
              "      <th>mean concave points</th>\n",
              "      <th>mean symmetry</th>\n",
              "      <th>mean fractal dimension</th>\n",
              "      <th>radius error</th>\n",
              "      <th>texture error</th>\n",
              "      <th>perimeter error</th>\n",
              "      <th>area error</th>\n",
              "      <th>smoothness error</th>\n",
              "      <th>compactness error</th>\n",
              "      <th>concavity error</th>\n",
              "      <th>concave points error</th>\n",
              "      <th>symmetry error</th>\n",
              "      <th>fractal dimension error</th>\n",
              "      <th>worst radius</th>\n",
              "      <th>worst texture</th>\n",
              "      <th>worst perimeter</th>\n",
              "      <th>worst area</th>\n",
              "      <th>worst smoothness</th>\n",
              "      <th>worst compactness</th>\n",
              "      <th>worst concavity</th>\n",
              "      <th>worst concave points</th>\n",
              "      <th>worst symmetry</th>\n",
              "      <th>worst fractal dimension</th>\n",
              "    </tr>\n",
              "  </thead>\n",
              "  <tbody>\n",
              "    <tr>\n",
              "      <th>0</th>\n",
              "      <td>17.99</td>\n",
              "      <td>10.38</td>\n",
              "      <td>122.80</td>\n",
              "      <td>1001.0</td>\n",
              "      <td>0.11840</td>\n",
              "      <td>0.27760</td>\n",
              "      <td>0.3001</td>\n",
              "      <td>0.14710</td>\n",
              "      <td>0.2419</td>\n",
              "      <td>0.07871</td>\n",
              "      <td>1.0950</td>\n",
              "      <td>0.9053</td>\n",
              "      <td>8.589</td>\n",
              "      <td>153.40</td>\n",
              "      <td>0.006399</td>\n",
              "      <td>0.04904</td>\n",
              "      <td>0.05373</td>\n",
              "      <td>0.01587</td>\n",
              "      <td>0.03003</td>\n",
              "      <td>0.006193</td>\n",
              "      <td>25.38</td>\n",
              "      <td>17.33</td>\n",
              "      <td>184.60</td>\n",
              "      <td>2019.0</td>\n",
              "      <td>0.1622</td>\n",
              "      <td>0.6656</td>\n",
              "      <td>0.7119</td>\n",
              "      <td>0.2654</td>\n",
              "      <td>0.4601</td>\n",
              "      <td>0.11890</td>\n",
              "    </tr>\n",
              "    <tr>\n",
              "      <th>1</th>\n",
              "      <td>20.57</td>\n",
              "      <td>17.77</td>\n",
              "      <td>132.90</td>\n",
              "      <td>1326.0</td>\n",
              "      <td>0.08474</td>\n",
              "      <td>0.07864</td>\n",
              "      <td>0.0869</td>\n",
              "      <td>0.07017</td>\n",
              "      <td>0.1812</td>\n",
              "      <td>0.05667</td>\n",
              "      <td>0.5435</td>\n",
              "      <td>0.7339</td>\n",
              "      <td>3.398</td>\n",
              "      <td>74.08</td>\n",
              "      <td>0.005225</td>\n",
              "      <td>0.01308</td>\n",
              "      <td>0.01860</td>\n",
              "      <td>0.01340</td>\n",
              "      <td>0.01389</td>\n",
              "      <td>0.003532</td>\n",
              "      <td>24.99</td>\n",
              "      <td>23.41</td>\n",
              "      <td>158.80</td>\n",
              "      <td>1956.0</td>\n",
              "      <td>0.1238</td>\n",
              "      <td>0.1866</td>\n",
              "      <td>0.2416</td>\n",
              "      <td>0.1860</td>\n",
              "      <td>0.2750</td>\n",
              "      <td>0.08902</td>\n",
              "    </tr>\n",
              "    <tr>\n",
              "      <th>2</th>\n",
              "      <td>19.69</td>\n",
              "      <td>21.25</td>\n",
              "      <td>130.00</td>\n",
              "      <td>1203.0</td>\n",
              "      <td>0.10960</td>\n",
              "      <td>0.15990</td>\n",
              "      <td>0.1974</td>\n",
              "      <td>0.12790</td>\n",
              "      <td>0.2069</td>\n",
              "      <td>0.05999</td>\n",
              "      <td>0.7456</td>\n",
              "      <td>0.7869</td>\n",
              "      <td>4.585</td>\n",
              "      <td>94.03</td>\n",
              "      <td>0.006150</td>\n",
              "      <td>0.04006</td>\n",
              "      <td>0.03832</td>\n",
              "      <td>0.02058</td>\n",
              "      <td>0.02250</td>\n",
              "      <td>0.004571</td>\n",
              "      <td>23.57</td>\n",
              "      <td>25.53</td>\n",
              "      <td>152.50</td>\n",
              "      <td>1709.0</td>\n",
              "      <td>0.1444</td>\n",
              "      <td>0.4245</td>\n",
              "      <td>0.4504</td>\n",
              "      <td>0.2430</td>\n",
              "      <td>0.3613</td>\n",
              "      <td>0.08758</td>\n",
              "    </tr>\n",
              "    <tr>\n",
              "      <th>3</th>\n",
              "      <td>11.42</td>\n",
              "      <td>20.38</td>\n",
              "      <td>77.58</td>\n",
              "      <td>386.1</td>\n",
              "      <td>0.14250</td>\n",
              "      <td>0.28390</td>\n",
              "      <td>0.2414</td>\n",
              "      <td>0.10520</td>\n",
              "      <td>0.2597</td>\n",
              "      <td>0.09744</td>\n",
              "      <td>0.4956</td>\n",
              "      <td>1.1560</td>\n",
              "      <td>3.445</td>\n",
              "      <td>27.23</td>\n",
              "      <td>0.009110</td>\n",
              "      <td>0.07458</td>\n",
              "      <td>0.05661</td>\n",
              "      <td>0.01867</td>\n",
              "      <td>0.05963</td>\n",
              "      <td>0.009208</td>\n",
              "      <td>14.91</td>\n",
              "      <td>26.50</td>\n",
              "      <td>98.87</td>\n",
              "      <td>567.7</td>\n",
              "      <td>0.2098</td>\n",
              "      <td>0.8663</td>\n",
              "      <td>0.6869</td>\n",
              "      <td>0.2575</td>\n",
              "      <td>0.6638</td>\n",
              "      <td>0.17300</td>\n",
              "    </tr>\n",
              "    <tr>\n",
              "      <th>4</th>\n",
              "      <td>20.29</td>\n",
              "      <td>14.34</td>\n",
              "      <td>135.10</td>\n",
              "      <td>1297.0</td>\n",
              "      <td>0.10030</td>\n",
              "      <td>0.13280</td>\n",
              "      <td>0.1980</td>\n",
              "      <td>0.10430</td>\n",
              "      <td>0.1809</td>\n",
              "      <td>0.05883</td>\n",
              "      <td>0.7572</td>\n",
              "      <td>0.7813</td>\n",
              "      <td>5.438</td>\n",
              "      <td>94.44</td>\n",
              "      <td>0.011490</td>\n",
              "      <td>0.02461</td>\n",
              "      <td>0.05688</td>\n",
              "      <td>0.01885</td>\n",
              "      <td>0.01756</td>\n",
              "      <td>0.005115</td>\n",
              "      <td>22.54</td>\n",
              "      <td>16.67</td>\n",
              "      <td>152.20</td>\n",
              "      <td>1575.0</td>\n",
              "      <td>0.1374</td>\n",
              "      <td>0.2050</td>\n",
              "      <td>0.4000</td>\n",
              "      <td>0.1625</td>\n",
              "      <td>0.2364</td>\n",
              "      <td>0.07678</td>\n",
              "    </tr>\n",
              "  </tbody>\n",
              "</table>\n",
              "</div>"
            ],
            "text/plain": [
              "   mean radius  mean texture  ...  worst symmetry  worst fractal dimension\n",
              "0        17.99         10.38  ...          0.4601                  0.11890\n",
              "1        20.57         17.77  ...          0.2750                  0.08902\n",
              "2        19.69         21.25  ...          0.3613                  0.08758\n",
              "3        11.42         20.38  ...          0.6638                  0.17300\n",
              "4        20.29         14.34  ...          0.2364                  0.07678\n",
              "\n",
              "[5 rows x 30 columns]"
            ]
          },
          "metadata": {
            "tags": []
          },
          "execution_count": 11
        }
      ]
    },
    {
      "cell_type": "code",
      "metadata": {
        "id": "QCGn0xvEwH5S",
        "colab_type": "code",
        "colab": {}
      },
      "source": [
        "y = cancer.target"
      ],
      "execution_count": 0,
      "outputs": []
    },
    {
      "cell_type": "code",
      "metadata": {
        "id": "CLNFAlx-yglE",
        "colab_type": "code",
        "colab": {
          "base_uri": "https://localhost:8080/",
          "height": 459
        },
        "outputId": "a23370c0-bbd3-4887-ad47-79d16d821382"
      },
      "source": [
        "y"
      ],
      "execution_count": 13,
      "outputs": [
        {
          "output_type": "execute_result",
          "data": {
            "text/plain": [
              "array([0, 0, 0, 0, 0, 0, 0, 0, 0, 0, 0, 0, 0, 0, 0, 0, 0, 0, 0, 1, 1, 1,\n",
              "       0, 0, 0, 0, 0, 0, 0, 0, 0, 0, 0, 0, 0, 0, 0, 1, 0, 0, 0, 0, 0, 0,\n",
              "       0, 0, 1, 0, 1, 1, 1, 1, 1, 0, 0, 1, 0, 0, 1, 1, 1, 1, 0, 1, 0, 0,\n",
              "       1, 1, 1, 1, 0, 1, 0, 0, 1, 0, 1, 0, 0, 1, 1, 1, 0, 0, 1, 0, 0, 0,\n",
              "       1, 1, 1, 0, 1, 1, 0, 0, 1, 1, 1, 0, 0, 1, 1, 1, 1, 0, 1, 1, 0, 1,\n",
              "       1, 1, 1, 1, 1, 1, 1, 0, 0, 0, 1, 0, 0, 1, 1, 1, 0, 0, 1, 0, 1, 0,\n",
              "       0, 1, 0, 0, 1, 1, 0, 1, 1, 0, 1, 1, 1, 1, 0, 1, 1, 1, 1, 1, 1, 1,\n",
              "       1, 1, 0, 1, 1, 1, 1, 0, 0, 1, 0, 1, 1, 0, 0, 1, 1, 0, 0, 1, 1, 1,\n",
              "       1, 0, 1, 1, 0, 0, 0, 1, 0, 1, 0, 1, 1, 1, 0, 1, 1, 0, 0, 1, 0, 0,\n",
              "       0, 0, 1, 0, 0, 0, 1, 0, 1, 0, 1, 1, 0, 1, 0, 0, 0, 0, 1, 1, 0, 0,\n",
              "       1, 1, 1, 0, 1, 1, 1, 1, 1, 0, 0, 1, 1, 0, 1, 1, 0, 0, 1, 0, 1, 1,\n",
              "       1, 1, 0, 1, 1, 1, 1, 1, 0, 1, 0, 0, 0, 0, 0, 0, 0, 0, 0, 0, 0, 0,\n",
              "       0, 0, 1, 1, 1, 1, 1, 1, 0, 1, 0, 1, 1, 0, 1, 1, 0, 1, 0, 0, 1, 1,\n",
              "       1, 1, 1, 1, 1, 1, 1, 1, 1, 1, 1, 0, 1, 1, 0, 1, 0, 1, 1, 1, 1, 1,\n",
              "       1, 1, 1, 1, 1, 1, 1, 1, 1, 0, 1, 1, 1, 0, 1, 0, 1, 1, 1, 1, 0, 0,\n",
              "       0, 1, 1, 1, 1, 0, 1, 0, 1, 0, 1, 1, 1, 0, 1, 1, 1, 1, 1, 1, 1, 0,\n",
              "       0, 0, 1, 1, 1, 1, 1, 1, 1, 1, 1, 1, 1, 0, 0, 1, 0, 0, 0, 1, 0, 0,\n",
              "       1, 1, 1, 1, 1, 0, 1, 1, 1, 1, 1, 0, 1, 1, 1, 0, 1, 1, 0, 0, 1, 1,\n",
              "       1, 1, 1, 1, 0, 1, 1, 1, 1, 1, 1, 1, 0, 1, 1, 1, 1, 1, 0, 1, 1, 0,\n",
              "       1, 1, 1, 1, 1, 1, 1, 1, 1, 1, 1, 1, 0, 1, 0, 0, 1, 0, 1, 1, 1, 1,\n",
              "       1, 0, 1, 1, 0, 1, 0, 1, 1, 0, 1, 0, 1, 1, 1, 1, 1, 1, 1, 1, 0, 0,\n",
              "       1, 1, 1, 1, 1, 1, 0, 1, 1, 1, 1, 1, 1, 1, 1, 1, 1, 0, 1, 1, 1, 1,\n",
              "       1, 1, 1, 0, 1, 0, 1, 1, 0, 1, 1, 1, 1, 1, 0, 0, 1, 0, 1, 0, 1, 1,\n",
              "       1, 1, 1, 0, 1, 1, 0, 1, 0, 1, 0, 0, 1, 1, 1, 0, 1, 1, 1, 1, 1, 1,\n",
              "       1, 1, 1, 1, 1, 0, 1, 0, 0, 1, 1, 1, 1, 1, 1, 1, 1, 1, 1, 1, 1, 1,\n",
              "       1, 1, 1, 1, 1, 1, 1, 1, 1, 1, 1, 1, 0, 0, 0, 0, 0, 0, 1])"
            ]
          },
          "metadata": {
            "tags": []
          },
          "execution_count": 13
        }
      ]
    },
    {
      "cell_type": "code",
      "metadata": {
        "id": "opoZCPPeygqk",
        "colab_type": "code",
        "colab": {
          "base_uri": "https://localhost:8080/",
          "height": 34
        },
        "outputId": "833b2dad-6de2-435b-cc1a-faa68c1704d4"
      },
      "source": [
        "cancer.target_names"
      ],
      "execution_count": 14,
      "outputs": [
        {
          "output_type": "execute_result",
          "data": {
            "text/plain": [
              "array(['malignant', 'benign'], dtype='<U9')"
            ]
          },
          "metadata": {
            "tags": []
          },
          "execution_count": 14
        }
      ]
    },
    {
      "cell_type": "code",
      "metadata": {
        "id": "rZb-N1lUygto",
        "colab_type": "code",
        "colab": {
          "base_uri": "https://localhost:8080/",
          "height": 34
        },
        "outputId": "c358a372-c087-4752-d26f-8dfa79e9a69c"
      },
      "source": [
        "x.shape"
      ],
      "execution_count": 15,
      "outputs": [
        {
          "output_type": "execute_result",
          "data": {
            "text/plain": [
              "(569, 30)"
            ]
          },
          "metadata": {
            "tags": []
          },
          "execution_count": 15
        }
      ]
    },
    {
      "cell_type": "code",
      "metadata": {
        "id": "Ywi_du0Dyp0x",
        "colab_type": "code",
        "colab": {}
      },
      "source": [
        "x_train, x_test, y_train, y_test = train_test_split(x, y, test_size = 0.2, random_state = 0, stratify = y)"
      ],
      "execution_count": 0,
      "outputs": []
    },
    {
      "cell_type": "code",
      "metadata": {
        "id": "Hxh0vjXUyp3p",
        "colab_type": "code",
        "colab": {
          "base_uri": "https://localhost:8080/",
          "height": 34
        },
        "outputId": "db64ba87-3b84-4676-8918-467862b1ada6"
      },
      "source": [
        "x_train.shape"
      ],
      "execution_count": 20,
      "outputs": [
        {
          "output_type": "execute_result",
          "data": {
            "text/plain": [
              "(455, 30)"
            ]
          },
          "metadata": {
            "tags": []
          },
          "execution_count": 20
        }
      ]
    },
    {
      "cell_type": "code",
      "metadata": {
        "id": "WLvojrdTyp9F",
        "colab_type": "code",
        "colab": {
          "base_uri": "https://localhost:8080/",
          "height": 34
        },
        "outputId": "e8b037c4-a324-46b0-e7cf-47b9dc431308"
      },
      "source": [
        "x_test.shape"
      ],
      "execution_count": 19,
      "outputs": [
        {
          "output_type": "execute_result",
          "data": {
            "text/plain": [
              "(114, 30)"
            ]
          },
          "metadata": {
            "tags": []
          },
          "execution_count": 19
        }
      ]
    },
    {
      "cell_type": "code",
      "metadata": {
        "id": "fTbXudfqzpiC",
        "colab_type": "code",
        "colab": {}
      },
      "source": [
        "scaler = StandardScaler()\n",
        "x_train = scaler.fit_transform(x_train)\n",
        "x_test = scaler.fit_transform(x_test)"
      ],
      "execution_count": 0,
      "outputs": []
    },
    {
      "cell_type": "code",
      "metadata": {
        "id": "5SYZ4wwcyqAl",
        "colab_type": "code",
        "colab": {}
      },
      "source": [
        "x_train = x_train.reshape(455,30,1)\n",
        "x_test = x_test.reshape(114,30,1)"
      ],
      "execution_count": 0,
      "outputs": []
    },
    {
      "cell_type": "code",
      "metadata": {
        "id": "AdRrPczSyp7Q",
        "colab_type": "code",
        "colab": {}
      },
      "source": [
        "epochs = 50\n",
        "model = Sequential()\n",
        "model.add(Conv1D(filters=32, kernel_size = 2, activation = 'relu',input_shape = (30,1)))\n",
        "model.add(BatchNormalization())\n",
        "model.add(Dropout(0.2))\n",
        "\n",
        "model.add(Conv1D(filters=64, kernel_size = 2, activation = 'relu'))\n",
        "model.add(BatchNormalization())\n",
        "model.add(Dropout(0.5))\n",
        "\n",
        "model.add(Flatten())\n",
        "model.add(Dense(64, activation = 'relu'))\n",
        "model.add(Dropout(0.5))\n",
        "\n",
        "model.add(Dense(1, activation = 'sigmoid'))\n"
      ],
      "execution_count": 0,
      "outputs": []
    },
    {
      "cell_type": "code",
      "metadata": {
        "id": "LuEqYNMyygwn",
        "colab_type": "code",
        "colab": {
          "base_uri": "https://localhost:8080/",
          "height": 493
        },
        "outputId": "062defaa-bc13-4582-c6fc-d8faf41b0270"
      },
      "source": [
        "model.summary()"
      ],
      "execution_count": 51,
      "outputs": [
        {
          "output_type": "stream",
          "text": [
            "Model: \"sequential_3\"\n",
            "_________________________________________________________________\n",
            "Layer (type)                 Output Shape              Param #   \n",
            "=================================================================\n",
            "conv1d_3 (Conv1D)            (None, 29, 32)            96        \n",
            "_________________________________________________________________\n",
            "batch_normalization_2 (Batch (None, 29, 32)            128       \n",
            "_________________________________________________________________\n",
            "dropout_3 (Dropout)          (None, 29, 32)            0         \n",
            "_________________________________________________________________\n",
            "conv1d_4 (Conv1D)            (None, 28, 64)            4160      \n",
            "_________________________________________________________________\n",
            "batch_normalization_3 (Batch (None, 28, 64)            256       \n",
            "_________________________________________________________________\n",
            "dropout_4 (Dropout)          (None, 28, 64)            0         \n",
            "_________________________________________________________________\n",
            "flatten_1 (Flatten)          (None, 1792)              0         \n",
            "_________________________________________________________________\n",
            "dense_2 (Dense)              (None, 64)                114752    \n",
            "_________________________________________________________________\n",
            "dropout_5 (Dropout)          (None, 64)                0         \n",
            "_________________________________________________________________\n",
            "dense_3 (Dense)              (None, 1)                 65        \n",
            "=================================================================\n",
            "Total params: 119,457\n",
            "Trainable params: 119,265\n",
            "Non-trainable params: 192\n",
            "_________________________________________________________________\n"
          ],
          "name": "stdout"
        }
      ]
    },
    {
      "cell_type": "code",
      "metadata": {
        "id": "9PazY2L0yg28",
        "colab_type": "code",
        "colab": {}
      },
      "source": [
        "model.compile(optimizer=Adam(lr=0.00005), loss = 'binary_crossentropy', metrics=['accuracy'])"
      ],
      "execution_count": 0,
      "outputs": []
    },
    {
      "cell_type": "code",
      "metadata": {
        "id": "eDJSvwCIygzs",
        "colab_type": "code",
        "colab": {
          "base_uri": "https://localhost:8080/",
          "height": 1000
        },
        "outputId": "e8621690-2a85-4d7f-f2b7-f33906c5aef2"
      },
      "source": [
        "history = model.fit(x_train, y_train, epochs=epochs, validation_data=(x_test,y_test), verbose =1)"
      ],
      "execution_count": 53,
      "outputs": [
        {
          "output_type": "stream",
          "text": [
            "Train on 455 samples, validate on 114 samples\n",
            "Epoch 1/50\n",
            "WARNING:tensorflow:Entity <function Function._initialize_uninitialized_variables.<locals>.initialize_variables at 0x7ff29ae0c378> could not be transformed and will be executed as-is. Please report this to the AutoGraph team. When filing the bug, set the verbosity to 10 (on Linux, `export AUTOGRAPH_VERBOSITY=10`) and attach the full output. Cause: module 'gast' has no attribute 'Num'\n",
            "WARNING: Entity <function Function._initialize_uninitialized_variables.<locals>.initialize_variables at 0x7ff29ae0c378> could not be transformed and will be executed as-is. Please report this to the AutoGraph team. When filing the bug, set the verbosity to 10 (on Linux, `export AUTOGRAPH_VERBOSITY=10`) and attach the full output. Cause: module 'gast' has no attribute 'Num'\n",
            "455/455 [==============================] - 2s 3ms/sample - loss: 1.2867 - accuracy: 0.4791 - val_loss: 0.6837 - val_accuracy: 0.6667\n",
            "Epoch 2/50\n",
            "455/455 [==============================] - 0s 376us/sample - loss: 0.9335 - accuracy: 0.6088 - val_loss: 0.6306 - val_accuracy: 0.8070\n",
            "Epoch 3/50\n",
            "455/455 [==============================] - 0s 378us/sample - loss: 0.7583 - accuracy: 0.6703 - val_loss: 0.5785 - val_accuracy: 0.8684\n",
            "Epoch 4/50\n",
            "455/455 [==============================] - 0s 400us/sample - loss: 0.5683 - accuracy: 0.7253 - val_loss: 0.5301 - val_accuracy: 0.8596\n",
            "Epoch 5/50\n",
            "455/455 [==============================] - 0s 350us/sample - loss: 0.4437 - accuracy: 0.8352 - val_loss: 0.4884 - val_accuracy: 0.8596\n",
            "Epoch 6/50\n",
            "455/455 [==============================] - 0s 369us/sample - loss: 0.4098 - accuracy: 0.8220 - val_loss: 0.4486 - val_accuracy: 0.8596\n",
            "Epoch 7/50\n",
            "455/455 [==============================] - 0s 338us/sample - loss: 0.4019 - accuracy: 0.8330 - val_loss: 0.4115 - val_accuracy: 0.8596\n",
            "Epoch 8/50\n",
            "455/455 [==============================] - 0s 367us/sample - loss: 0.3713 - accuracy: 0.8659 - val_loss: 0.3779 - val_accuracy: 0.8596\n",
            "Epoch 9/50\n",
            "455/455 [==============================] - 0s 362us/sample - loss: 0.3441 - accuracy: 0.8527 - val_loss: 0.3479 - val_accuracy: 0.8860\n",
            "Epoch 10/50\n",
            "455/455 [==============================] - 0s 378us/sample - loss: 0.2899 - accuracy: 0.8945 - val_loss: 0.3199 - val_accuracy: 0.8860\n",
            "Epoch 11/50\n",
            "455/455 [==============================] - 0s 374us/sample - loss: 0.3040 - accuracy: 0.8791 - val_loss: 0.2948 - val_accuracy: 0.9123\n",
            "Epoch 12/50\n",
            "455/455 [==============================] - 0s 378us/sample - loss: 0.2324 - accuracy: 0.9055 - val_loss: 0.2727 - val_accuracy: 0.9123\n",
            "Epoch 13/50\n",
            "455/455 [==============================] - 0s 384us/sample - loss: 0.2515 - accuracy: 0.9055 - val_loss: 0.2542 - val_accuracy: 0.9211\n",
            "Epoch 14/50\n",
            "455/455 [==============================] - 0s 377us/sample - loss: 0.1971 - accuracy: 0.9319 - val_loss: 0.2377 - val_accuracy: 0.9211\n",
            "Epoch 15/50\n",
            "455/455 [==============================] - 0s 395us/sample - loss: 0.2699 - accuracy: 0.8901 - val_loss: 0.2238 - val_accuracy: 0.9211\n",
            "Epoch 16/50\n",
            "455/455 [==============================] - 0s 366us/sample - loss: 0.1910 - accuracy: 0.9253 - val_loss: 0.2112 - val_accuracy: 0.9211\n",
            "Epoch 17/50\n",
            "455/455 [==============================] - 0s 379us/sample - loss: 0.2167 - accuracy: 0.9143 - val_loss: 0.2013 - val_accuracy: 0.9298\n",
            "Epoch 18/50\n",
            "455/455 [==============================] - 0s 375us/sample - loss: 0.2326 - accuracy: 0.9033 - val_loss: 0.1915 - val_accuracy: 0.9386\n",
            "Epoch 19/50\n",
            "455/455 [==============================] - 0s 374us/sample - loss: 0.2036 - accuracy: 0.9297 - val_loss: 0.1818 - val_accuracy: 0.9386\n",
            "Epoch 20/50\n",
            "455/455 [==============================] - 0s 398us/sample - loss: 0.1959 - accuracy: 0.9275 - val_loss: 0.1722 - val_accuracy: 0.9474\n",
            "Epoch 21/50\n",
            "455/455 [==============================] - 0s 421us/sample - loss: 0.2299 - accuracy: 0.9099 - val_loss: 0.1649 - val_accuracy: 0.9474\n",
            "Epoch 22/50\n",
            "455/455 [==============================] - 0s 417us/sample - loss: 0.1957 - accuracy: 0.9253 - val_loss: 0.1566 - val_accuracy: 0.9561\n",
            "Epoch 23/50\n",
            "455/455 [==============================] - 0s 412us/sample - loss: 0.1473 - accuracy: 0.9253 - val_loss: 0.1494 - val_accuracy: 0.9649\n",
            "Epoch 24/50\n",
            "455/455 [==============================] - 0s 414us/sample - loss: 0.1344 - accuracy: 0.9451 - val_loss: 0.1447 - val_accuracy: 0.9649\n",
            "Epoch 25/50\n",
            "455/455 [==============================] - 0s 430us/sample - loss: 0.1784 - accuracy: 0.9363 - val_loss: 0.1384 - val_accuracy: 0.9649\n",
            "Epoch 26/50\n",
            "455/455 [==============================] - 0s 422us/sample - loss: 0.1790 - accuracy: 0.9319 - val_loss: 0.1332 - val_accuracy: 0.9649\n",
            "Epoch 27/50\n",
            "455/455 [==============================] - 0s 405us/sample - loss: 0.1513 - accuracy: 0.9319 - val_loss: 0.1298 - val_accuracy: 0.9649\n",
            "Epoch 28/50\n",
            "455/455 [==============================] - 0s 388us/sample - loss: 0.1298 - accuracy: 0.9473 - val_loss: 0.1253 - val_accuracy: 0.9649\n",
            "Epoch 29/50\n",
            "455/455 [==============================] - 0s 401us/sample - loss: 0.2004 - accuracy: 0.9407 - val_loss: 0.1218 - val_accuracy: 0.9649\n",
            "Epoch 30/50\n",
            "455/455 [==============================] - 0s 380us/sample - loss: 0.1915 - accuracy: 0.9077 - val_loss: 0.1196 - val_accuracy: 0.9649\n",
            "Epoch 31/50\n",
            "455/455 [==============================] - 0s 384us/sample - loss: 0.1402 - accuracy: 0.9385 - val_loss: 0.1176 - val_accuracy: 0.9737\n",
            "Epoch 32/50\n",
            "455/455 [==============================] - 0s 386us/sample - loss: 0.1417 - accuracy: 0.9451 - val_loss: 0.1159 - val_accuracy: 0.9737\n",
            "Epoch 33/50\n",
            "455/455 [==============================] - 0s 409us/sample - loss: 0.1575 - accuracy: 0.9385 - val_loss: 0.1129 - val_accuracy: 0.9737\n",
            "Epoch 34/50\n",
            "455/455 [==============================] - 0s 417us/sample - loss: 0.1296 - accuracy: 0.9473 - val_loss: 0.1114 - val_accuracy: 0.9737\n",
            "Epoch 35/50\n",
            "455/455 [==============================] - 0s 379us/sample - loss: 0.1374 - accuracy: 0.9363 - val_loss: 0.1102 - val_accuracy: 0.9649\n",
            "Epoch 36/50\n",
            "455/455 [==============================] - 0s 421us/sample - loss: 0.1515 - accuracy: 0.9451 - val_loss: 0.1091 - val_accuracy: 0.9649\n",
            "Epoch 37/50\n",
            "455/455 [==============================] - 0s 409us/sample - loss: 0.1538 - accuracy: 0.9385 - val_loss: 0.1072 - val_accuracy: 0.9649\n",
            "Epoch 38/50\n",
            "455/455 [==============================] - 0s 398us/sample - loss: 0.1338 - accuracy: 0.9341 - val_loss: 0.1063 - val_accuracy: 0.9649\n",
            "Epoch 39/50\n",
            "455/455 [==============================] - 0s 360us/sample - loss: 0.0932 - accuracy: 0.9626 - val_loss: 0.1060 - val_accuracy: 0.9649\n",
            "Epoch 40/50\n",
            "455/455 [==============================] - 0s 401us/sample - loss: 0.1286 - accuracy: 0.9495 - val_loss: 0.1058 - val_accuracy: 0.9649\n",
            "Epoch 41/50\n",
            "455/455 [==============================] - 0s 405us/sample - loss: 0.1236 - accuracy: 0.9582 - val_loss: 0.1058 - val_accuracy: 0.9649\n",
            "Epoch 42/50\n",
            "455/455 [==============================] - 0s 423us/sample - loss: 0.1163 - accuracy: 0.9538 - val_loss: 0.1054 - val_accuracy: 0.9649\n",
            "Epoch 43/50\n",
            "455/455 [==============================] - 0s 430us/sample - loss: 0.1205 - accuracy: 0.9516 - val_loss: 0.1057 - val_accuracy: 0.9649\n",
            "Epoch 44/50\n",
            "455/455 [==============================] - 0s 402us/sample - loss: 0.1280 - accuracy: 0.9538 - val_loss: 0.1046 - val_accuracy: 0.9649\n",
            "Epoch 45/50\n",
            "455/455 [==============================] - 0s 403us/sample - loss: 0.1093 - accuracy: 0.9538 - val_loss: 0.1040 - val_accuracy: 0.9649\n",
            "Epoch 46/50\n",
            "455/455 [==============================] - 0s 405us/sample - loss: 0.0865 - accuracy: 0.9604 - val_loss: 0.1026 - val_accuracy: 0.9649\n",
            "Epoch 47/50\n",
            "455/455 [==============================] - 0s 407us/sample - loss: 0.1076 - accuracy: 0.9604 - val_loss: 0.1023 - val_accuracy: 0.9649\n",
            "Epoch 48/50\n",
            "455/455 [==============================] - 0s 450us/sample - loss: 0.1031 - accuracy: 0.9473 - val_loss: 0.1020 - val_accuracy: 0.9649\n",
            "Epoch 49/50\n",
            "455/455 [==============================] - 0s 423us/sample - loss: 0.1452 - accuracy: 0.9451 - val_loss: 0.1019 - val_accuracy: 0.9649\n",
            "Epoch 50/50\n",
            "455/455 [==============================] - 0s 428us/sample - loss: 0.1054 - accuracy: 0.9538 - val_loss: 0.1020 - val_accuracy: 0.9649\n"
          ],
          "name": "stdout"
        }
      ]
    },
    {
      "cell_type": "code",
      "metadata": {
        "id": "x_qmJBPM6R62",
        "colab_type": "code",
        "colab": {
          "base_uri": "https://localhost:8080/",
          "height": 1000
        },
        "outputId": "05bfa543-b438-4565-b402-7f7c7a3d138e"
      },
      "source": [
        "history.history"
      ],
      "execution_count": 54,
      "outputs": [
        {
          "output_type": "execute_result",
          "data": {
            "text/plain": [
              "{'accuracy': [0.47912088,\n",
              "  0.60879123,\n",
              "  0.6703297,\n",
              "  0.72527474,\n",
              "  0.83516484,\n",
              "  0.82197803,\n",
              "  0.83296704,\n",
              "  0.8659341,\n",
              "  0.85274726,\n",
              "  0.8945055,\n",
              "  0.8791209,\n",
              "  0.9054945,\n",
              "  0.9054945,\n",
              "  0.93186814,\n",
              "  0.8901099,\n",
              "  0.9252747,\n",
              "  0.9142857,\n",
              "  0.9032967,\n",
              "  0.92967033,\n",
              "  0.92747253,\n",
              "  0.9098901,\n",
              "  0.9252747,\n",
              "  0.9252747,\n",
              "  0.94505495,\n",
              "  0.93626374,\n",
              "  0.93186814,\n",
              "  0.93186814,\n",
              "  0.94725275,\n",
              "  0.94065934,\n",
              "  0.9076923,\n",
              "  0.93846154,\n",
              "  0.94505495,\n",
              "  0.93846154,\n",
              "  0.94725275,\n",
              "  0.93626374,\n",
              "  0.94505495,\n",
              "  0.93846154,\n",
              "  0.93406594,\n",
              "  0.96263736,\n",
              "  0.94945055,\n",
              "  0.95824176,\n",
              "  0.95384616,\n",
              "  0.95164835,\n",
              "  0.95384616,\n",
              "  0.95384616,\n",
              "  0.96043956,\n",
              "  0.96043956,\n",
              "  0.94725275,\n",
              "  0.94505495,\n",
              "  0.95384616],\n",
              " 'loss': [1.2866798446073637,\n",
              "  0.9335381718127282,\n",
              "  0.7582529349641486,\n",
              "  0.568260526231357,\n",
              "  0.4436717673972413,\n",
              "  0.4097678521177271,\n",
              "  0.4019065767854125,\n",
              "  0.3712843910350904,\n",
              "  0.3441268083485928,\n",
              "  0.28990059301748383,\n",
              "  0.30399774411222436,\n",
              "  0.2323761963254803,\n",
              "  0.25154668603624614,\n",
              "  0.1970722355941249,\n",
              "  0.26993656168272206,\n",
              "  0.1910235255629152,\n",
              "  0.2166539953305171,\n",
              "  0.23260821601846715,\n",
              "  0.2036278887273191,\n",
              "  0.19586434809716194,\n",
              "  0.2298676413494152,\n",
              "  0.1956849020916027,\n",
              "  0.14733859978534364,\n",
              "  0.13436223894030183,\n",
              "  0.17836149970253745,\n",
              "  0.17900540219558464,\n",
              "  0.15129663878744776,\n",
              "  0.1297832927124186,\n",
              "  0.20037960704866348,\n",
              "  0.1915451861999847,\n",
              "  0.14020888260105155,\n",
              "  0.14168562752061656,\n",
              "  0.1574978722648306,\n",
              "  0.12960583737918308,\n",
              "  0.13739397804160694,\n",
              "  0.15152446063501493,\n",
              "  0.15376115698408294,\n",
              "  0.1338203015072005,\n",
              "  0.09322159247738974,\n",
              "  0.12856240619669904,\n",
              "  0.12357343138901741,\n",
              "  0.11628178021548173,\n",
              "  0.12053444896425519,\n",
              "  0.12798706718853542,\n",
              "  0.10931645025918772,\n",
              "  0.08653914286949477,\n",
              "  0.10756422449926753,\n",
              "  0.10314100647529403,\n",
              "  0.145215730876713,\n",
              "  0.1054498184437142],\n",
              " 'val_accuracy': [0.6666667,\n",
              "  0.80701756,\n",
              "  0.8684211,\n",
              "  0.8596491,\n",
              "  0.8596491,\n",
              "  0.8596491,\n",
              "  0.8596491,\n",
              "  0.8596491,\n",
              "  0.88596493,\n",
              "  0.88596493,\n",
              "  0.9122807,\n",
              "  0.9122807,\n",
              "  0.92105263,\n",
              "  0.92105263,\n",
              "  0.92105263,\n",
              "  0.92105263,\n",
              "  0.9298246,\n",
              "  0.9385965,\n",
              "  0.9385965,\n",
              "  0.94736844,\n",
              "  0.94736844,\n",
              "  0.95614034,\n",
              "  0.9649123,\n",
              "  0.9649123,\n",
              "  0.9649123,\n",
              "  0.9649123,\n",
              "  0.9649123,\n",
              "  0.9649123,\n",
              "  0.9649123,\n",
              "  0.9649123,\n",
              "  0.9736842,\n",
              "  0.9736842,\n",
              "  0.9736842,\n",
              "  0.9736842,\n",
              "  0.9649123,\n",
              "  0.9649123,\n",
              "  0.9649123,\n",
              "  0.9649123,\n",
              "  0.9649123,\n",
              "  0.9649123,\n",
              "  0.9649123,\n",
              "  0.9649123,\n",
              "  0.9649123,\n",
              "  0.9649123,\n",
              "  0.9649123,\n",
              "  0.9649123,\n",
              "  0.9649123,\n",
              "  0.9649123,\n",
              "  0.9649123,\n",
              "  0.9649123],\n",
              " 'val_loss': [0.6836804507071512,\n",
              "  0.630644024464122,\n",
              "  0.5784566025984915,\n",
              "  0.5300912051870111,\n",
              "  0.4884077629499268,\n",
              "  0.4486212908175954,\n",
              "  0.41146840442690935,\n",
              "  0.3779419728538446,\n",
              "  0.34791020395462974,\n",
              "  0.3198878456626022,\n",
              "  0.2948411572397801,\n",
              "  0.27271748321098194,\n",
              "  0.2541863949675309,\n",
              "  0.23769760131835938,\n",
              "  0.2237821673614937,\n",
              "  0.21118130600243284,\n",
              "  0.2012931009133657,\n",
              "  0.19150160619041376,\n",
              "  0.18181715225964262,\n",
              "  0.17224164803822836,\n",
              "  0.16493763212572066,\n",
              "  0.1566149689126433,\n",
              "  0.14938849367593465,\n",
              "  0.1447432540487825,\n",
              "  0.13836008872379335,\n",
              "  0.1332423757565649,\n",
              "  0.12983838978566623,\n",
              "  0.1253210775423468,\n",
              "  0.12177248299121857,\n",
              "  0.11959854983969738,\n",
              "  0.11758703320172795,\n",
              "  0.11586322197527216,\n",
              "  0.11293125165659085,\n",
              "  0.11136848891251966,\n",
              "  0.11023330302876339,\n",
              "  0.10912610335569632,\n",
              "  0.10724580144150216,\n",
              "  0.10632299024023507,\n",
              "  0.10604792336622874,\n",
              "  0.10581403859613235,\n",
              "  0.10575487438523978,\n",
              "  0.10543092758509151,\n",
              "  0.10572881048970055,\n",
              "  0.10459822631980244,\n",
              "  0.10403839877822943,\n",
              "  0.10263014186108321,\n",
              "  0.10233623161911964,\n",
              "  0.10203283868337933,\n",
              "  0.10188423502340652,\n",
              "  0.10198738461915861]}"
            ]
          },
          "metadata": {
            "tags": []
          },
          "execution_count": 54
        }
      ]
    },
    {
      "cell_type": "code",
      "metadata": {
        "id": "YmFWGwtlygou",
        "colab_type": "code",
        "colab": {}
      },
      "source": [
        "def plot_learningCurve(history, epoch):\n",
        "  epoch_range = range(1,epoch+1)\n",
        "  #plot Accuracy\n",
        "  plt.plot(epoch_range, history.history['accuracy'])\n",
        "  plt.plot(epoch_range, history.history['val_accuracy'])\n",
        "\n",
        "  plt.title('Model accuracy')\n",
        "  plt.ylabel('Accuracy')\n",
        "  plt.xlabel('Epoch')\n",
        "  plt.legend(['Train','Val'], loc='upper left')\n",
        "  plt.show()\n",
        "\n",
        "  #plot loss\n",
        "  plt.plot(epoch_range, history.history['loss'])\n",
        "  plt.plot(epoch_range, history.history['val_loss'])\n",
        "\n",
        "  plt.title('Model loss')\n",
        "  plt.ylabel('Accuracy')\n",
        "  plt.xlabel('Epoch')\n",
        "  plt.legend(['Train','Val'], loc='upper left')\n",
        "  plt.show()"
      ],
      "execution_count": 0,
      "outputs": []
    },
    {
      "cell_type": "code",
      "metadata": {
        "id": "dC34sSEz6Hpd",
        "colab_type": "code",
        "colab": {
          "base_uri": "https://localhost:8080/",
          "height": 573
        },
        "outputId": "23f9782c-423f-4609-dc4d-bff066d2c9b9"
      },
      "source": [
        "plot_learningCurve(history, epochs)"
      ],
      "execution_count": 56,
      "outputs": [
        {
          "output_type": "display_data",
          "data": {
            "image/png": "[encoded data removed]",
            "text/plain": [
              "<Figure size 432x288 with 1 Axes>"
            ]
          },
          "metadata": {
            "tags": [],
            "needs_background": "light"
          }
        },
        {
          "output_type": "display_data",
          "data": {
            "image/png": "[encoded data removed]",
            "text/plain": [
              "<Figure size 432x288 with 1 Axes>"
            ]
          },
          "metadata": {
            "tags": [],
            "needs_background": "light"
          }
        }
      ]
    },
    {
      "cell_type": "code",
      "metadata": {
        "id": "40qUPBCJ6Hvh",
        "colab_type": "code",
        "colab": {}
      },
      "source": [
        ""
      ],
      "execution_count": 0,
      "outputs": []
    },
    {
      "cell_type": "code",
      "metadata": {
        "id": "XW55hlMm6Hsl",
        "colab_type": "code",
        "colab": {}
      },
      "source": [
        ""
      ],
      "execution_count": 0,
      "outputs": []
    }
  ]
}